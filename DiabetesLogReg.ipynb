{
 "cells": [
  {
   "cell_type": "code",
   "execution_count": 2,
   "id": "34f94c8c-588c-4f39-bb37-0ba0081f6d99",
   "metadata": {},
   "outputs": [],
   "source": [
    "import pandas as pd\n",
    "from sklearn.linear_model import LogisticRegression\n",
    "from sklearn.preprocessing import StandardScaler, MinMaxScaler\n",
    "from sklearn.model_selection import KFold\n",
    "import seaborn as sns"
   ]
  },
  {
   "cell_type": "code",
   "execution_count": 3,
   "id": "37b77b8c-6e70-4697-bb96-d7378991e5d1",
   "metadata": {},
   "outputs": [],
   "source": [
    "from sklearn.model_selection import train_test_split\n",
    "from sklearn.metrics import accuracy_score"
   ]
  },
  {
   "cell_type": "code",
   "execution_count": 6,
   "id": "5701988d-a062-4bdc-8d4f-3569c44959d6",
   "metadata": {},
   "outputs": [
    {
     "name": "stdout",
     "output_type": "stream",
     "text": [
      "Pregnancies                 0\n",
      "Glucose                     0\n",
      "BloodPressure               0\n",
      "SkinThickness               0\n",
      "Insulin                     0\n",
      "BMI                         0\n",
      "DiabetesPedigreeFunction    0\n",
      "Age                         0\n",
      "Outcome                     0\n",
      "dtype: int64\n"
     ]
    }
   ],
   "source": [
    "df = pd.read_csv(\"/Users/aahan_bagga/Desktop/diabetes_data.csv\")\n",
    "\n",
    "\n",
    "print(df.isna().sum())"
   ]
  },
  {
   "cell_type": "code",
   "execution_count": 186,
   "id": "4e1162dd-4916-4265-85ac-48f71cc9cf86",
   "metadata": {},
   "outputs": [],
   "source": [
    "X=df.drop([\"Outcome\"], axis=1)\n",
    "Y=df[\"Outcome\"]"
   ]
  },
  {
   "cell_type": "code",
   "execution_count": 187,
   "id": "14b9d26b-726b-4e53-be22-415eecd5e49d",
   "metadata": {},
   "outputs": [],
   "source": [
    "#Preprocessing steps\n",
    "\n",
    "#X_train, X_test, y_train, y_test = train_test_split(X,Y,train_size = 0.8, random_state=42)\n",
    "\n",
    "kf = KFold(n_splits = 9, shuffle = True, random_state = 19)\n",
    "\n",
    "for training_index,testing_index in kf.split(X):\n",
    "    X_train, X_test = X.iloc[training_index], X.iloc[testing_index]\n",
    "    Y_train, Y_test = Y.iloc[training_index], Y.iloc[testing_index]\n",
    "\n",
    "\n",
    "scaler = MinMaxScaler() #Standaridzation better than Normalization\n",
    "x_train_s = scaler.fit_transform(X_train)\n",
    "x_test_s = scaler.fit_transform(X_test)\n",
    "\n",
    "# GRAPH TO FIGURE WHAT THE TRHESHOLD VALUE IS\n",
    "# EXPERIMENT WITH PREDICT_PROBA AND FUNCTIONS\n",
    "# THEN USE GRIDSEARCH CV EXHAUSTIVE SEARCH TO TUNE HYPERPARAMS\n",
    "# USE THE LOG-LOSS FUNCTION IN GRID SEARCH \"neg_log_loss\" as scoring parameter of grid search"
   ]
  },
  {
   "cell_type": "code",
   "execution_count": 188,
   "metadata": {},
   "outputs": [],
   "source": [
    "model = LogisticRegression(max_iter = 2000)\n",
    "model.fit(x_train_s,Y_train)\n",
    "y_pred = model.predict(x_test_s)\n"
   ]
  },
  {
   "cell_type": "code",
   "execution_count": 189,
   "id": "8d6d71e1-072c-401c-a853-b71bb0627f83",
   "metadata": {},
   "outputs": [
    {
     "name": "stdout",
     "output_type": "stream",
     "text": [
      "0.8117647058823529\n"
     ]
    }
   ],
   "source": [
    "acc = accuracy_score(Y_test, y_pred)\n",
    "print(acc)"
   ]
  },
  {
   "cell_type": "code",
   "execution_count": 190,
   "metadata": {},
   "outputs": [
    {
     "name": "stdout",
     "output_type": "stream",
     "text": [
      "     Pregnancies  Glucose  BloodPressure  SkinThickness  Insulin   BMI  \\\n",
      "19             1      115             70             30       96  34.6   \n",
      "32             3       88             58             11       54  24.8   \n",
      "52             5       88             66             21       23  24.4   \n",
      "53             8      176             90             34      300  33.7   \n",
      "55             1       73             50             10        0  23.0   \n",
      "..           ...      ...            ...            ...      ...   ...   \n",
      "707            2      127             46             21      335  34.4   \n",
      "708            9      164             78              0        0  32.8   \n",
      "732            2      174             88             37      120  44.5   \n",
      "757            0      123             72              0        0  36.3   \n",
      "760            2       88             58             26       16  28.4   \n",
      "\n",
      "     DiabetesPedigreeFunction  Age  \n",
      "19                      0.529   32  \n",
      "32                      0.267   22  \n",
      "52                      0.342   30  \n",
      "53                      0.467   58  \n",
      "55                      0.248   21  \n",
      "..                        ...  ...  \n",
      "707                     0.176   22  \n",
      "708                     0.148   45  \n",
      "732                     0.646   24  \n",
      "757                     0.258   52  \n",
      "760                     0.766   22  \n",
      "\n",
      "[85 rows x 8 columns]\n"
     ]
    }
   ],
   "source": [
    "#print(x_test_s)\n",
    "#print(x_test_s)\n",
    "print(X_test)"
   ]
  },
  {
   "cell_type": "code",
   "execution_count": 191,
   "metadata": {},
   "outputs": [
    {
     "name": "stdout",
     "output_type": "stream",
     "text": [
      "No Diabetes\n"
     ]
    }
   ],
   "source": [
    "c = model.predict_proba([x_test_s[80]])\n",
    "c\n",
    "threshold = 0.5\n",
    "if c[0, 1] > threshold:\n",
    "    print(\"Diabetes\")\n",
    "else:\n",
    "    print(\"No Diabetes\")\n",
    "\n"
   ]
  },
  {
   "cell_type": "code",
   "execution_count": 192,
   "metadata": {},
   "outputs": [
    {
     "data": {
      "text/plain": [
       "[[array([2.00e+00, 1.27e+02, 4.60e+01, 2.10e+01, 3.35e+02, 3.44e+01,\n",
       "         1.76e-01, 2.20e+01])]]"
      ]
     },
     "execution_count": 192,
     "metadata": {},
     "output_type": "execute_result"
    }
   ],
   "source": [
    "[[X_test.iloc[80].values]]"
   ]
  },
  {
   "cell_type": "code",
   "execution_count": 193,
   "metadata": {},
   "outputs": [
    {
     "data": {
      "text/plain": [
       "array([[  6.   , 148.   ,  72.   , ...,  33.6  ,   0.627,  50.   ],\n",
       "       [  1.   ,  85.   ,  66.   , ...,  26.6  ,   0.351,  31.   ],\n",
       "       [  8.   , 183.   ,  64.   , ...,  23.3  ,   0.672,  32.   ],\n",
       "       ...,\n",
       "       [  5.   , 121.   ,  72.   , ...,  26.2  ,   0.245,  30.   ],\n",
       "       [  1.   , 126.   ,  60.   , ...,  30.1  ,   0.349,  47.   ],\n",
       "       [  1.   ,  93.   ,  70.   , ...,  30.4  ,   0.315,  23.   ]])"
      ]
     },
     "execution_count": 193,
     "metadata": {},
     "output_type": "execute_result"
    }
   ],
   "source": [
    "X.values"
   ]
  },
  {
   "cell_type": "code",
   "execution_count": 196,
   "metadata": {},
   "outputs": [
    {
     "data": {
      "text/plain": [
       "array([[<Axes: title={'center': 'Pregnancies'}>,\n",
       "        <Axes: title={'center': 'Glucose'}>,\n",
       "        <Axes: title={'center': 'BloodPressure'}>],\n",
       "       [<Axes: title={'center': 'SkinThickness'}>,\n",
       "        <Axes: title={'center': 'Insulin'}>,\n",
       "        <Axes: title={'center': 'BMI'}>],\n",
       "       [<Axes: title={'center': 'DiabetesPedigreeFunction'}>,\n",
       "        <Axes: title={'center': 'Age'}>, <Axes: >]], dtype=object)"
      ]
     },
     "execution_count": 196,
     "metadata": {},
     "output_type": "execute_result"
    },
    {
     "data": {
      "image/png": "[encoded data removed]",
      "text/plain": [
       "<Figure size 640x480 with 9 Axes>"
      ]
     },
     "metadata": {},
     "output_type": "display_data"
    }
   ],
   "source": [
    "X_train.hist(bins = 50, grid = False)"
   ]
  },
  {
   "cell_type": "code",
   "execution_count": 197,
   "metadata": {},
   "outputs": [
    {
     "data": {
      "text/plain": [
       "<Axes: >"
      ]
     },
     "execution_count": 197,
     "metadata": {},
     "output_type": "execute_result"
    },
    {
     "data": {
      "image/png": "[encoded data removed]",
      "text/plain": [
       "<Figure size 640x480 with 1 Axes>"
      ]
     },
     "metadata": {},
     "output_type": "display_data"
    }
   ],
   "source": [
    "Y_train.hist(bins = 50, grid = False)"
   ]
  }
 ],
 "metadata": {
  "kernelspec": {
   "display_name": "Python 3",
   "language": "python",
   "name": "python3"
  },
  "language_info": {
   "codemirror_mode": {
    "name": "ipython",
    "version": 3
   },
   "file_extension": ".py",
   "mimetype": "text/x-python",
   "name": "python",
   "nbconvert_exporter": "python",
   "pygments_lexer": "ipython3",
   "version": "3.11.5"
  },
  "vscode": {
   "interpreter": {
    "hash": "aee8b7b246df8f9039afb4144a1f6fd8d2ca17a180786b69acc140d282b71a49"
   }
  }
 },
 "nbformat": 4,
 "nbformat_minor": 5
}
