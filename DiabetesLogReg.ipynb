{
 "cells": [
  {
   "cell_type": "code",
   "execution_count": 1,
   "id": "34f94c8c-588c-4f39-bb37-0ba0081f6d99",
   "metadata": {},
   "outputs": [
    {
     "ename": "ModuleNotFoundError",
     "evalue": "No module named 'pandas'",
     "output_type": "error",
     "traceback": [
      "\u001b[0;31m---------------------------------------------------------------------------\u001b[0m",
      "\u001b[0;31mModuleNotFoundError\u001b[0m                       Traceback (most recent call last)",
      "Cell \u001b[0;32mIn[1], line 1\u001b[0m\n\u001b[0;32m----> 1\u001b[0m \u001b[39mimport\u001b[39;00m \u001b[39mpandas\u001b[39;00m \u001b[39mas\u001b[39;00m \u001b[39mpd\u001b[39;00m\n\u001b[1;32m      2\u001b[0m \u001b[39mfrom\u001b[39;00m \u001b[39msklearn\u001b[39;00m\u001b[39m.\u001b[39;00m\u001b[39mlinear_model\u001b[39;00m \u001b[39mimport\u001b[39;00m LogisticRegression\n\u001b[1;32m      3\u001b[0m \u001b[39mfrom\u001b[39;00m \u001b[39msklearn\u001b[39;00m\u001b[39m.\u001b[39;00m\u001b[39mpreprocessing\u001b[39;00m \u001b[39mimport\u001b[39;00m StandardScaler, MinMaxScaler\n",
      "\u001b[0;31mModuleNotFoundError\u001b[0m: No module named 'pandas'"
     ]
    }
   ],
   "source": [
    "import pandas as pd\n",
    "from sklearn.linear_model import LogisticRegression\n",
    "from sklearn.preprocessing import StandardScaler, MinMaxScaler\n",
    "import warnings"
   ]
  },
  {
   "cell_type": "code",
   "execution_count": 2,
   "id": "37b77b8c-6e70-4697-bb96-d7378991e5d1",
   "metadata": {},
   "outputs": [],
   "source": [
    "from sklearn.model_selection import train_test_split\n",
    "from sklearn.metrics import accuracy_score"
   ]
  },
  {
   "cell_type": "code",
   "execution_count": 3,
   "id": "5701988d-a062-4bdc-8d4f-3569c44959d6",
   "metadata": {},
   "outputs": [],
   "source": [
    "df = pd.read_csv(\"/Users/aahan/Desktop/diabetes_prediction_dataset.csv\")"
   ]
  },
  {
   "cell_type": "code",
   "execution_count": 4,
   "id": "fd7b253a-f7fb-4ca1-b4cd-78162ef9458f",
   "metadata": {},
   "outputs": [],
   "source": [
    "df_e = pd.get_dummies(df, columns = [\"gender\", \"smoking_history\"])"
   ]
  },
  {
   "cell_type": "code",
   "execution_count": 5,
   "id": "44b7e9ad-816c-44b4-b629-4a3701af5320",
   "metadata": {},
   "outputs": [],
   "source": [
    "df_e.rename(columns={\"smoking_history_No Info\": \"smoking_history_No_Info\"}, inplace = True)"
   ]
  },
  {
   "cell_type": "code",
   "execution_count": 6,
   "id": "eda8b3fa-e0f4-4e3e-bd1b-15e2caef62d0",
   "metadata": {},
   "outputs": [],
   "source": [
    "df_e.rename(columns={\"smoking_history_not current\": \"smoking_history_not_current\"}, inplace = True)"
   ]
  },
  {
   "cell_type": "code",
   "execution_count": 7,
   "id": "4e1162dd-4916-4265-85ac-48f71cc9cf86",
   "metadata": {},
   "outputs": [],
   "source": [
    "X=df_e.drop([\"diabetes\"], axis=1)\n",
    "Y=df_e[\"diabetes\"]"
   ]
  },
  {
   "cell_type": "code",
   "execution_count": 8,
   "id": "14b9d26b-726b-4e53-be22-415eecd5e49d",
   "metadata": {},
   "outputs": [],
   "source": [
    "X_train, X_test, y_train, y_test = train_test_split(X,Y,train_size = 0.8, random_state=42)\n",
    "\n",
    "scaler = MinMaxScaler() #Normalization better than Standardization\n",
    "x_train_s = scaler.fit_transform(X_train)\n",
    "x_test_s = scaler.fit_transform(X_test)"
   ]
  },
  {
   "cell_type": "code",
   "execution_count": 9,
   "id": "4d4bda45-9972-476b-9e50-1268916c76de",
   "metadata": {},
   "outputs": [
    {
     "name": "stdout",
     "output_type": "stream",
     "text": [
      "Min iterations: 88\n"
     ]
    }
   ],
   "source": [
    "#algo to find min iterations for logreg\n",
    "m = None\n",
    "for x in range(50, 90, 2):\n",
    "    with warnings.catch_warnings(record = True) as w:\n",
    "        #warnings.simplefilter(\"ignore\")\n",
    "        m = LogisticRegression(max_iter = x)\n",
    "        m.fit(x_train_s, y_train)\n",
    "        try:\n",
    "            if w[0] == None:\n",
    "                print(f\"Min iterations: {x}\")\n",
    "        except IndexError:\n",
    "            print(f\"Min iterations: {x}\")\n",
    "        \n",
    "model = m"
   ]
  },
  {
   "cell_type": "code",
   "execution_count": 57,
   "id": "a6284851-773e-446e-b5ab-19102c52c55c",
   "metadata": {},
   "outputs": [],
   "source": [
    "y_pred = model.predict(x_test_s)"
   ]
  },
  {
   "cell_type": "code",
   "execution_count": 58,
   "id": "8d6d71e1-072c-401c-a853-b71bb0627f83",
   "metadata": {},
   "outputs": [],
   "source": [
    "acc = accuracy_score(y_test, y_pred)"
   ]
  },
  {
   "cell_type": "code",
   "execution_count": 59,
   "id": "1edf932e-9701-4be8-b7a0-4c2d8fbeb83e",
   "metadata": {},
   "outputs": [
    {
     "name": "stdout",
     "output_type": "stream",
     "text": [
      "0.9591\n"
     ]
    }
   ],
   "source": [
    "print(acc)"
   ]
  },
  {
   "cell_type": "code",
   "execution_count": null,
   "id": "75b2c21f-1bc4-40f3-b599-75304eb967b4",
   "metadata": {},
   "outputs": [],
   "source": []
  }
 ],
 "metadata": {
  "kernelspec": {
   "display_name": "Python 3",
   "language": "python",
   "name": "python3"
  },
  "language_info": {
   "codemirror_mode": {
    "name": "ipython",
    "version": 3
   },
   "file_extension": ".py",
   "mimetype": "text/x-python",
   "name": "python",
   "nbconvert_exporter": "python",
   "pygments_lexer": "ipython3",
   "version": "3.12.0"
  },
  "vscode": {
   "interpreter": {
    "hash": "aee8b7b246df8f9039afb4144a1f6fd8d2ca17a180786b69acc140d282b71a49"
   }
  }
 },
 "nbformat": 4,
 "nbformat_minor": 5
}
