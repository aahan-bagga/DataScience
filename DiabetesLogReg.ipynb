{
 "cells": [
  {
   "cell_type": "code",
   "execution_count": 393,
   "id": "34f94c8c-588c-4f39-bb37-0ba0081f6d99",
   "metadata": {},
   "outputs": [],
   "source": [
    "import pandas as pd\n",
    "from sklearn.linear_model import LogisticRegression\n",
    "from sklearn.preprocessing import StandardScaler, MinMaxScaler\n",
    "from sklearn.model_selection import KFold"
   ]
  },
  {
   "cell_type": "code",
   "execution_count": 394,
   "id": "37b77b8c-6e70-4697-bb96-d7378991e5d1",
   "metadata": {},
   "outputs": [],
   "source": [
    "from sklearn.model_selection import train_test_split\n",
    "from sklearn.metrics import accuracy_score"
   ]
  },
  {
   "cell_type": "code",
   "execution_count": 395,
   "id": "5701988d-a062-4bdc-8d4f-3569c44959d6",
   "metadata": {},
   "outputs": [],
   "source": [
    "df = pd.read_csv(\"/Users/aahan_bagga/Desktop/diabetes_data.csv\")"
   ]
  },
  {
   "cell_type": "code",
   "execution_count": 396,
   "id": "4e1162dd-4916-4265-85ac-48f71cc9cf86",
   "metadata": {},
   "outputs": [],
   "source": [
    "X=df.drop([\"Outcome\"], axis=1)\n",
    "Y=df[\"Outcome\"]"
   ]
  },
  {
   "cell_type": "code",
   "execution_count": 401,
   "id": "14b9d26b-726b-4e53-be22-415eecd5e49d",
   "metadata": {},
   "outputs": [],
   "source": [
    "#Preprocessing steps\n",
    "\n",
    "#X_train, X_test, y_train, y_test = train_test_split(X,Y,train_size = 0.8, random_state=42)\n",
    "\n",
    "kf = KFold(n_splits = 9, shuffle = True, random_state = 19)\n",
    "\n",
    "for training_index,testing_index in kf.split(X):\n",
    "    X_train, X_test = X.iloc[training_index], X.iloc[testing_index]\n",
    "    Y_train, Y_test = Y.iloc[training_index], Y.iloc[testing_index]\n",
    "\n",
    "\n",
    "scaler = MinMaxScaler() #Standaridzation better than Normalization\n",
    "x_train_s = scaler.fit_transform(X_train)\n",
    "x_test_s = scaler.fit_transform(X_test)\n",
    "\n",
    "# GRAPH TO FIGURE WHAT THE TRHESHOLD VALUE IS\n",
    "# EXPERIMENT WITH PREDICT_PROBA AND FUNCTIONS\n",
    "# THEN USE GRIDSEARCH CV EXHAUSTIVE SEARCH TO TUNE HYPERPARAMS\n",
    "# USE THE LOG-LOSS FUNCTION IN GRID SEARCH \"neg_log_loss\" as scoring parameter of grid search"
   ]
  },
  {
   "cell_type": "code",
   "execution_count": 402,
   "metadata": {},
   "outputs": [],
   "source": [
    "model = LogisticRegression(max_iter = 2000)\n",
    "model.fit(x_train_s,Y_train)\n",
    "y_pred = model.predict(x_test_s)\n"
   ]
  },
  {
   "cell_type": "code",
   "execution_count": 403,
   "id": "8d6d71e1-072c-401c-a853-b71bb0627f83",
   "metadata": {},
   "outputs": [
    {
     "name": "stdout",
     "output_type": "stream",
     "text": [
      "0.8117647058823529\n"
     ]
    }
   ],
   "source": [
    "acc = accuracy_score(Y_test, y_pred)\n",
    "print(acc)"
   ]
  }
 ],
 "metadata": {
  "kernelspec": {
   "display_name": "Python 3",
   "language": "python",
   "name": "python3"
  },
  "language_info": {
   "codemirror_mode": {
    "name": "ipython",
    "version": 3
   },
   "file_extension": ".py",
   "mimetype": "text/x-python",
   "name": "python",
   "nbconvert_exporter": "python",
   "pygments_lexer": "ipython3",
   "version": "3.11.5"
  },
  "vscode": {
   "interpreter": {
    "hash": "aee8b7b246df8f9039afb4144a1f6fd8d2ca17a180786b69acc140d282b71a49"
   }
  }
 },
 "nbformat": 4,
 "nbformat_minor": 5
}
